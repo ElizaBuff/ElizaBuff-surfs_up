{
 "cells": [
  {
   "cell_type": "code",
   "execution_count": 1,
   "id": "0e4d56b7",
   "metadata": {},
   "outputs": [],
   "source": [
    "#Import Dependencies\n",
    "import datetime as dt\n",
    "import numpy as np\n",
    "import pandas as pd\n",
    "import sqlalchemy\n",
    "from sqlalchemy.ext.automap import automap_base\n",
    "from sqlalchemy.orm import Session\n",
    "from sqlalchemy import create_engine, func\n",
    "from flask import Flask, jsonify"
   ]
  },
  {
   "cell_type": "code",
   "execution_count": 2,
   "id": "f1c602fc",
   "metadata": {},
   "outputs": [],
   "source": [
    "# reflect an existing database into a new model\n",
    "engine = create_engine(\"sqlite:///hawaii.sqlite\")\n",
    "Base = automap_base()\n",
    "# reflect the tables\n",
    "Base.prepare(engine, reflect=True)"
   ]
  },
  {
   "cell_type": "code",
   "execution_count": 3,
   "id": "37a4a97f",
   "metadata": {},
   "outputs": [],
   "source": [
    "# Save references to each table\n",
    "Measurement = Base.classes.measurement\n",
    "Station = Base.classes.station"
   ]
  },
  {
   "cell_type": "code",
   "execution_count": 4,
   "id": "a1df193c",
   "metadata": {},
   "outputs": [
    {
     "data": {
      "text/plain": [
       "['measurement', 'station']"
      ]
     },
     "execution_count": 4,
     "metadata": {},
     "output_type": "execute_result"
    }
   ],
   "source": [
    "# We can view all of the classes that automap found\n",
    "Base.classes.keys()"
   ]
  },
  {
   "cell_type": "code",
   "execution_count": 5,
   "id": "1cfc1fbc",
   "metadata": {},
   "outputs": [],
   "source": [
    "#session link\n",
    "session = Session(engine)"
   ]
  },
  {
   "cell_type": "code",
   "execution_count": null,
   "id": "2ab9d4d3",
   "metadata": {},
   "outputs": [
    {
     "name": "stdout",
     "output_type": "stream",
     "text": [
      " * Serving Flask app \"__main__\" (lazy loading)\n",
      " * Environment: production\n",
      "\u001b[31m   WARNING: This is a development server. Do not use it in a production deployment.\u001b[0m\n",
      "\u001b[2m   Use a production WSGI server instead.\u001b[0m\n",
      " * Debug mode: off\n"
     ]
    },
    {
     "name": "stderr",
     "output_type": "stream",
     "text": [
      " * Running on http://127.0.0.1:5000/ (Press CTRL+C to quit)\n",
      "127.0.0.1 - - [18/Jun/2022 13:36:41] \"GET / HTTP/1.1\" 200 -\n",
      "127.0.0.1 - - [18/Jun/2022 13:36:46] \"GET /api/v1.0/temp/start/end%20route HTTP/1.1\" 200 -\n",
      "[2022-06-18 13:37:04,373] ERROR in app: Exception on /api/v1.0/temp/2017-06-01/2017-06-30 [GET]\n",
      "Traceback (most recent call last):\n",
      "  File \"C:\\Users\\eliza\\anaconda3\\lib\\site-packages\\sqlalchemy\\engine\\base.py\", line 1708, in _execute_context\n",
      "    context = constructor(\n",
      "  File \"C:\\Users\\eliza\\anaconda3\\lib\\site-packages\\sqlalchemy\\engine\\default.py\", line 1013, in _init_compiled\n",
      "    self.cursor = self.create_cursor()\n",
      "  File \"C:\\Users\\eliza\\anaconda3\\lib\\site-packages\\sqlalchemy\\engine\\default.py\", line 1361, in create_cursor\n",
      "    return self.create_default_cursor()\n",
      "  File \"C:\\Users\\eliza\\anaconda3\\lib\\site-packages\\sqlalchemy\\engine\\default.py\", line 1364, in create_default_cursor\n",
      "    return self._dbapi_connection.cursor()\n",
      "  File \"C:\\Users\\eliza\\anaconda3\\lib\\site-packages\\sqlalchemy\\pool\\base.py\", line 1083, in cursor\n",
      "    return self.dbapi_connection.cursor(*args, **kwargs)\n",
      "sqlite3.ProgrammingError: SQLite objects created in a thread can only be used in that same thread. The object was created in thread id 16184 and this is thread id 8604.\n",
      "\n",
      "The above exception was the direct cause of the following exception:\n",
      "\n",
      "Traceback (most recent call last):\n",
      "  File \"C:\\Users\\eliza\\anaconda3\\lib\\site-packages\\flask\\app.py\", line 2447, in wsgi_app\n",
      "    response = self.full_dispatch_request()\n",
      "  File \"C:\\Users\\eliza\\anaconda3\\lib\\site-packages\\flask\\app.py\", line 1952, in full_dispatch_request\n",
      "    rv = self.handle_user_exception(e)\n",
      "  File \"C:\\Users\\eliza\\anaconda3\\lib\\site-packages\\flask\\app.py\", line 1821, in handle_user_exception\n",
      "    reraise(exc_type, exc_value, tb)\n",
      "  File \"C:\\Users\\eliza\\anaconda3\\lib\\site-packages\\flask\\_compat.py\", line 39, in reraise\n",
      "    raise value\n",
      "  File \"C:\\Users\\eliza\\anaconda3\\lib\\site-packages\\flask\\app.py\", line 1950, in full_dispatch_request\n",
      "    rv = self.dispatch_request()\n",
      "  File \"C:\\Users\\eliza\\anaconda3\\lib\\site-packages\\flask\\app.py\", line 1936, in dispatch_request\n",
      "    return self.view_functions[rule.endpoint](**req.view_args)\n",
      "  File \"C:\\Users\\eliza\\AppData\\Local\\Temp\\ipykernel_14820\\1857934334.py\", line 50, in stats\n",
      "    results = session.query(*sel).\\\n",
      "  File \"C:\\Users\\eliza\\anaconda3\\lib\\site-packages\\sqlalchemy\\orm\\query.py\", line 2759, in all\n",
      "    return self._iter().all()\n",
      "  File \"C:\\Users\\eliza\\anaconda3\\lib\\site-packages\\sqlalchemy\\orm\\query.py\", line 2894, in _iter\n",
      "    result = self.session.execute(\n",
      "  File \"C:\\Users\\eliza\\anaconda3\\lib\\site-packages\\sqlalchemy\\orm\\session.py\", line 1692, in execute\n",
      "    result = conn._execute_20(statement, params or {}, execution_options)\n",
      "  File \"C:\\Users\\eliza\\anaconda3\\lib\\site-packages\\sqlalchemy\\engine\\base.py\", line 1620, in _execute_20\n",
      "    return meth(self, args_10style, kwargs_10style, execution_options)\n",
      "  File \"C:\\Users\\eliza\\anaconda3\\lib\\site-packages\\sqlalchemy\\sql\\elements.py\", line 325, in _execute_on_connection\n",
      "    return connection._execute_clauseelement(\n",
      "  File \"C:\\Users\\eliza\\anaconda3\\lib\\site-packages\\sqlalchemy\\engine\\base.py\", line 1487, in _execute_clauseelement\n",
      "    ret = self._execute_context(\n",
      "  File \"C:\\Users\\eliza\\anaconda3\\lib\\site-packages\\sqlalchemy\\engine\\base.py\", line 1714, in _execute_context\n",
      "    self._handle_dbapi_exception(\n",
      "  File \"C:\\Users\\eliza\\anaconda3\\lib\\site-packages\\sqlalchemy\\engine\\base.py\", line 2032, in _handle_dbapi_exception\n",
      "    util.raise_(\n",
      "  File \"C:\\Users\\eliza\\anaconda3\\lib\\site-packages\\sqlalchemy\\util\\compat.py\", line 207, in raise_\n",
      "    raise exception\n",
      "  File \"C:\\Users\\eliza\\anaconda3\\lib\\site-packages\\sqlalchemy\\engine\\base.py\", line 1708, in _execute_context\n",
      "    context = constructor(\n",
      "  File \"C:\\Users\\eliza\\anaconda3\\lib\\site-packages\\sqlalchemy\\engine\\default.py\", line 1013, in _init_compiled\n",
      "    self.cursor = self.create_cursor()\n",
      "  File \"C:\\Users\\eliza\\anaconda3\\lib\\site-packages\\sqlalchemy\\engine\\default.py\", line 1361, in create_cursor\n",
      "    return self.create_default_cursor()\n",
      "  File \"C:\\Users\\eliza\\anaconda3\\lib\\site-packages\\sqlalchemy\\engine\\default.py\", line 1364, in create_default_cursor\n",
      "    return self._dbapi_connection.cursor()\n",
      "  File \"C:\\Users\\eliza\\anaconda3\\lib\\site-packages\\sqlalchemy\\pool\\base.py\", line 1083, in cursor\n",
      "    return self.dbapi_connection.cursor(*args, **kwargs)\n",
      "sqlalchemy.exc.ProgrammingError: (sqlite3.ProgrammingError) SQLite objects created in a thread can only be used in that same thread. The object was created in thread id 16184 and this is thread id 8604.\n",
      "[SQL: SELECT min(measurement.tobs) AS min_1, avg(measurement.tobs) AS avg_1, max(measurement.tobs) AS max_1 \n",
      "FROM measurement \n",
      "WHERE measurement.date >= ? AND measurement.date <= ?]\n",
      "[parameters: [{}]]\n",
      "(Background on this error at: https://sqlalche.me/e/14/f405)\n",
      "127.0.0.1 - - [18/Jun/2022 13:37:04] \"GET /api/v1.0/temp/2017-06-01/2017-06-30 HTTP/1.1\" 500 -\n"
     ]
    }
   ],
   "source": [
    "#set up flask\n",
    "app = Flask(__name__)\n",
    "\n",
    "#define welcome route\n",
    "@app.route(\"/\")\n",
    "def welcome():\n",
    "    return(\n",
    "    '''\n",
    "    Welcome to the Climate ANalysis API!\n",
    "    Available Routes:\n",
    "    /api/v1.0/precipitation\n",
    "    /api/v1.0/stations\n",
    "    /api/v1.0/tobs\n",
    "    /api/v1.0/temp/start/end\n",
    "    ''')\n",
    "\n",
    "#precipitation route\n",
    "@app.route(\"/api/v1.0/precipitation\")\n",
    "def precipitation():\n",
    "   prev_year = dt.date(2017, 8, 23) - dt.timedelta(days=365)\n",
    "   precipitation = session.query(Measurement.date, Measurement.prcp).\\\n",
    "    filter(Measurement.date >= prev_year).all()\n",
    "   precip = {date: prcp for date, prcp in precipitation}\n",
    "   return jsonify(precip)\n",
    "\n",
    "#stations route\n",
    "@app.route(\"/api/v1.0/stations\")\n",
    "def stations():\n",
    "    results = session.query(Station.station).all()\n",
    "    stations = list(np.ravel(results))\n",
    "    return jsonify(stations=stations)\n",
    "\n",
    "#monthly temps route\n",
    "@app.route(\"/api/v1.0/tobs\")\n",
    "def temp_monthly():\n",
    "    prev_year = dt.date(2017, 8, 23) - dt.timedelta(days=365)\n",
    "    results = session.query(Measurement.tobs).\\\n",
    "        filter(Measurement.station == 'USC00519281').\\\n",
    "        filter(Measurement.date >= prev_year).all()\n",
    "    temps = list(np.ravel(results))\n",
    "    return jsonify (temps = temps)\n",
    "\n",
    "#statistics route\n",
    "@app.route(\"/api/v1.0/temp/<start>\")\n",
    "@app.route(\"/api/v1.0/temp/<start>/<end>\")\n",
    "def stats(start=None, end=None):\n",
    "    sel = [func.min(Measurement.tobs), func.avg(Measurement.tobs), func.max(Measurement.tobs)]\n",
    "\n",
    "    if not end:\n",
    "        results = session.query(*sel).\\\n",
    "            filter(Measurement.date >= start).all()\n",
    "        temps = list(np.ravel(results))\n",
    "        return jsonify(temps)\n",
    "\n",
    "    results = session.query(*sel).\\\n",
    "        filter(Measurement.date >= start).\\\n",
    "        filter(Measurement.date <= end).all()\n",
    "    temps = list(np.ravel(results))\n",
    "    return jsonify(temps)\n",
    "\n",
    "app.run()"
   ]
  },
  {
   "cell_type": "code",
   "execution_count": null,
   "id": "5761600a",
   "metadata": {},
   "outputs": [],
   "source": []
  }
 ],
 "metadata": {
  "kernelspec": {
   "display_name": "PythonData",
   "language": "python",
   "name": "pythondata"
  },
  "language_info": {
   "codemirror_mode": {
    "name": "ipython",
    "version": 3
   },
   "file_extension": ".py",
   "mimetype": "text/x-python",
   "name": "python",
   "nbconvert_exporter": "python",
   "pygments_lexer": "ipython3",
   "version": "3.9.12"
  }
 },
 "nbformat": 4,
 "nbformat_minor": 5
}
